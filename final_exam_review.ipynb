{
 "cells": [
  {
   "cell_type": "markdown",
   "metadata": {},
   "source": [
    "# start"
   ]
  },
  {
   "cell_type": "code",
   "execution_count": 3,
   "metadata": {},
   "outputs": [],
   "source": [
    "import numpy as np\n",
    "from matplotlib import pyplot as plt\n",
    "\n",
    "%matplotlib inline"
   ]
  },
  {
   "cell_type": "markdown",
   "metadata": {},
   "source": [
    "# 位置点 1D or 2D"
   ]
  },
  {
   "cell_type": "code",
   "execution_count": 7,
   "metadata": {},
   "outputs": [],
   "source": [
    "nx = 41\n",
    "L = 2.0\n",
    "dx = L / (nx-1)\n",
    "\n",
    "x = np.linspace(0.0, L, num = nx)"
   ]
  },
  {
   "cell_type": "markdown",
   "metadata": {},
   "source": [
    "# 设定位置点区域   和  赋值"
   ]
  },
  {
   "cell_type": "code",
   "execution_count": 25,
   "metadata": {},
   "outputs": [
    {
     "name": "stdout",
     "output_type": "stream",
     "text": [
      "(array([10, 11, 12, 13, 14, 15, 16, 17, 18, 19, 20]),) [1. 1. 1. 1. 1. 1. 1. 1. 1. 1. 2. 2. 2. 2. 2. 2. 2. 2. 2. 2. 2. 1. 1. 1.\n",
      " 1. 1. 1. 1. 1. 1. 1. 1. 1. 1. 1. 1. 1. 1. 1. 1. 1.] 10 0\n"
     ]
    }
   ],
   "source": [
    "u0 = np.ones(nx)\n",
    "mask = np.where((x>=0.5)&(x<=1.0))\n",
    "u0[mask] = 2.0\n",
    "\n",
    "\n",
    "h1 = np.argmax(u0) #最大值所在位置\n",
    "h2 = np.argmin(u0) #最小值所在位置\n",
    "\n",
    "print(mask, u0, h1, h2)"
   ]
  },
  {
   "cell_type": "markdown",
   "metadata": {},
   "source": [
    "# 画图"
   ]
  },
  {
   "cell_type": "code",
   "execution_count": 26,
   "metadata": {},
   "outputs": [
    {
     "data": {
      "image/png": "[encoded data removed]",
      "text/plain": [
       "<Figure size 288x288 with 1 Axes>"
      ]
     },
     "metadata": {
      "needs_background": "light"
     },
     "output_type": "display_data"
    }
   ],
   "source": [
    "pl.figure(figsize = (4.0,4.0))\n",
    "pl.title('Time step')\n",
    "pl.xlabel('x')\n",
    "pl.ylabel('u')\n",
    "pl.grid()\n",
    "pl.plot(x, u0, color = 'C1', marker='o', linestyle = '--', label ='y = x**2')\n",
    "pl.legend() #有右上图鉴\n",
    "pl.xlim(0.0, 2.0);\n",
    "pl.ylim(0.0, 2.5);"
   ]
  },
  {
   "cell_type": "markdown",
   "metadata": {},
   "source": [
    "# 各种array建立"
   ]
  },
  {
   "cell_type": "raw",
   "metadata": {},
   "source": [
    "u1 = np.ones(nx)\n",
    "u2 = np.empty_like(u1)\n",
    "u3 = np.zeros_like(u2)"
   ]
  },
  {
   "cell_type": "markdown",
   "metadata": {},
   "source": [
    "# RK2"
   ]
  },
  {
   "cell_type": "raw",
   "metadata": {},
   "source": [
    "u_star = u + 0.5 * dt * f(u)\n",
    "u_new = u + dt * f(u_star)"
   ]
  },
  {
   "cell_type": "markdown",
   "metadata": {},
   "source": [
    "# module1 详见m1_l4 or hw1"
   ]
  },
  {
   "cell_type": "raw",
   "metadata": {},
   "source": [
    "rhs_phugoid:\n",
    "\n",
    "v, theta, x, y = u\n",
    "    rhs = numpy.array([-g * math.sin(theta) - CD / CL * g / vt**2 * v**2,\n",
    "                       -g * math.cos(theta) / v + g / vt**2 * v,\n",
    "                       v * math.cos(theta),\n",
    "                       v * math.sin(theta)])\n",
    "euler:\n",
    "\n",
    "u_new = u + dt * f(u)\n"
   ]
  },
  {
   "cell_type": "markdown",
   "metadata": {},
   "source": [
    "# 在for loop里记录每次计算的数据，m2_l3"
   ]
  },
  {
   "cell_type": "raw",
   "metadata": {},
   "source": [
    "def diffusion(u0, sigma=0.5, nt=20):\n",
    "    u_hist = [u0.copy()]\n",
    "    u = u0.copy()\n",
    "    for n in range(nt):\n",
    "        un = u.copy()\n",
    "        u[1:-1] = un[1:-1] + sigma * (un[:-2] - 2 * un [1:-1] +un[2:])\n",
    "        u_hist.append(u.copy())\n",
    "    return u_hist"
   ]
  },
  {
   "cell_type": "markdown",
   "metadata": {},
   "source": [
    "# 多个时间点的图像合成见m2_l3最后 ipywidgets and m3_l2"
   ]
  },
  {
   "cell_type": "code",
   "execution_count": null,
   "metadata": {},
   "outputs": [],
   "source": []
  },
  {
   "cell_type": "markdown",
   "metadata": {},
   "source": [
    "# sympy就是转化成可显示公式，详见m2_l4 and m3_l3"
   ]
  },
  {
   "cell_type": "code",
   "execution_count": null,
   "metadata": {},
   "outputs": [],
   "source": []
  },
  {
   "cell_type": "markdown",
   "metadata": {},
   "source": [
    "# btcs: A*x = b + b[bc] 详见 m4_l2, m4_l2hw是把A的填充简化 \n",
    "# sigma<=1/2则用ftcs， 如果是2D的，sigmax + sigmay<= 1/2"
   ]
  },
  {
   "cell_type": "raw",
   "metadata": {},
   "source": [
    "def btcs(u0, nt, dt, dx, alpha, q = 0.0):\n",
    "    u = u0.copy()\n",
    "    sigma = alpha * dt / dx**2\n",
    "    A = lhs_operator(u0.size-2 ,sigma)\n",
    "    for n in range(nt):\n",
    "        b = rhs_vector(u, sigma, q * dx)\n",
    "        u[1:-1] = np.linalg.solve(A, b)\n",
    "        \n",
    "        # update boundary value\n",
    "        u[0] = u0[0]\n",
    "        u[-1] = u[-2] + q*dx    \n",
    "    return u\n",
    "\n",
    "def lhs_operator(N, sigma):\n",
    "    #diagonal coefficients\n",
    "    D = np.diag((2 + 1 / sigma) * np.ones(N))  #推导公式\n",
    "    D[-1,-1] = 1 + 1 / sigma\n",
    "    #upper diagonal\n",
    "    U = np.diag(-1.0 * np.ones(N-1), k=1)\n",
    "    #lower diagonal\n",
    "    L = np.diag(-1.0 * np.ones(N-1), k=-1)\n",
    "    #assumble\n",
    "    A = D + U + L\n",
    "    print(A)\n",
    "    return A\n",
    "    \n",
    "    \n",
    "def rhs_vector(T, sigma, qdx):\n",
    "    b = T[1:-1] / sigma     #推导公式\n",
    "    b[0] = b[0] + T[0]\n",
    "    b[-1] = b[-1] + qdx\n",
    "    return b  \n",
    "\n"
   ]
  },
  {
   "cell_type": "code",
   "execution_count": null,
   "metadata": {},
   "outputs": [],
   "source": []
  }
 ],
 "metadata": {
  "kernelspec": {
   "display_name": "Python 3",
   "language": "python",
   "name": "python3"
  },
  "language_info": {
   "codemirror_mode": {
    "name": "ipython",
    "version": 3
   },
   "file_extension": ".py",
   "mimetype": "text/x-python",
   "name": "python",
   "nbconvert_exporter": "python",
   "pygments_lexer": "ipython3",
   "version": "3.7.3"
  }
 },
 "nbformat": 4,
 "nbformat_minor": 2
}
