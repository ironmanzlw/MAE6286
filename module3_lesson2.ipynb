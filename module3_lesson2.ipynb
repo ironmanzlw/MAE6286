{
 "cells": [
  {
   "cell_type": "code",
   "execution_count": 1,
   "metadata": {},
   "outputs": [],
   "source": [
    "import numpy as np\n",
    "from matplotlib import pyplot as pl\n",
    "import ipywidgets\n",
    "\n",
    "%matplotlib inline"
   ]
  },
  {
   "cell_type": "code",
   "execution_count": 2,
   "metadata": {},
   "outputs": [],
   "source": [
    "pl.rc('font', family='serif', size=16)"
   ]
  },
  {
   "cell_type": "code",
   "execution_count": 3,
   "metadata": {},
   "outputs": [],
   "source": [
    "def rho_red_light(x, rho_max):\n",
    "    rho = np.full_like(x, rho_max)\n",
    "    #rho = rho_max * np.ones_like(x)\n",
    "    mask = np.where(x<3.0)\n",
    "    rho[mask] /= 2\n",
    "    #rho[mask] = rho_max/2\n",
    "    return rho"
   ]
  },
  {
   "cell_type": "code",
   "execution_count": 4,
   "metadata": {},
   "outputs": [],
   "source": [
    "#set parameters\n",
    "nx = 81\n",
    "L = 4.0\n",
    "dx = L / (nx - 1)\n",
    "x = np.linspace(0.0, L, num = nx)\n",
    "\n",
    "rho_max = 10.0\n",
    "u_max = 1.0\n",
    "\n",
    "rho0 = rho_red_light(x, rho_max)"
   ]
  },
  {
   "cell_type": "code",
   "execution_count": 5,
   "metadata": {},
   "outputs": [],
   "source": [
    "def plot(n, x, rho_hist):\n",
    "    pl.figure()\n",
    "    pl.grid()\n",
    "    pl.title('Time step: {}'. format(n))\n",
    "    pl.xlabel('Road [km]')\n",
    "    pl.ylabel('Traffic density [car/h]')\n",
    "    pl.plot(x, rho_hist[n])\n",
    "    pl.xlim(x[0], x[-1])\n",
    "    pl.ylim(4.0, 11.0)\n",
    "    pl.show()"
   ]
  },
  {
   "cell_type": "code",
   "execution_count": 6,
   "metadata": {},
   "outputs": [
    {
     "data": {
      "image/png": "[encoded data removed]",
      "text/plain": [
       "<Figure size 432x288 with 1 Axes>"
      ]
     },
     "metadata": {
      "needs_background": "light"
     },
     "output_type": "display_data"
    }
   ],
   "source": [
    "plot(0, x, [rho0])"
   ]
  },
  {
   "cell_type": "code",
   "execution_count": 7,
   "metadata": {},
   "outputs": [],
   "source": [
    "def traffic_speed(rho, u_max, rho_max):\n",
    "    return u_max * (1 - rho / rho_max)\n",
    "\n",
    "def traffic_flux(rho, u_max, rho_max):\n",
    "    return rho * traffic_speed(rho, u_max, rho_max)"
   ]
  },
  {
   "cell_type": "code",
   "execution_count": 8,
   "metadata": {},
   "outputs": [],
   "source": [
    "def interactive_plot(x, rho_hist):\n",
    "    nt = len(rho_hist)-1\n",
    "    nt_slider = ipywidgets.IntSlider(value=0, min=0, max=nt, step=1, description='time step')\n",
    "    w = ipywidgets.interactive(plot, n=nt_slider, x=ipywidgets.fixed(x), rho_hist=ipywidgets.fixed(rho_hist))\n",
    "    return w"
   ]
  },
  {
   "cell_type": "code",
   "execution_count": 9,
   "metadata": {},
   "outputs": [
    {
     "data": {
      "application/vnd.jupyter.widget-view+json": {
       "model_id": "601fbd2002454cd890159e6b5b5d1036",
       "version_major": 2,
       "version_minor": 0
      },
      "text/plain": [
       "interactive(children=(IntSlider(value=0, description='time step', max=0), Output()), _dom_classes=('widget-int…"
      ]
     },
     "metadata": {},
     "output_type": "display_data"
    }
   ],
   "source": [
    "interactive_plot(x,[rho0])"
   ]
  },
  {
   "cell_type": "code",
   "execution_count": 10,
   "metadata": {},
   "outputs": [],
   "source": [
    "def lax_fniedrichs(rho0, nt, dt, dx, u_max, rho_max):\n",
    "    rho_hist = [rho0.copy()]\n",
    "    rho = rho0.copy()\n",
    "    nx = len(rho0)\n",
    "    #nx = rho0.size\n",
    "    for n in range(nt):\n",
    "        rhon = rho.copy()\n",
    "        F = traffic_flux(rhon, u_max, rho_max)\n",
    "        for i in range(1, nx - 1):\n",
    "            rho[i] = (1/2 * (rhon[i-1]+rhon[i+1]) - dt/(2*dx) * (F[i+1]-F[i-1]))\n",
    "            \n",
    "        #rho[1:-1] = 1/2 * (rho[:-2] + rho[2:]) - dt /(2*dx) * (F[2:]-F[:-2])\n",
    "        rho_hist.append(rho.copy())\n",
    "        \n",
    "    return rho_hist"
   ]
  },
  {
   "cell_type": "code",
   "execution_count": 11,
   "metadata": {},
   "outputs": [
    {
     "data": {
      "application/vnd.jupyter.widget-view+json": {
       "model_id": "a4aecbf2eab94355995b204c0c3f94ec",
       "version_major": 2,
       "version_minor": 0
      },
      "text/plain": [
       "interactive(children=(IntSlider(value=0, description='time step', max=40), Output()), _dom_classes=('widget-in…"
      ]
     },
     "metadata": {},
     "output_type": "display_data"
    }
   ],
   "source": [
    "nt = 40\n",
    "sigma = 1.0\n",
    "dt = sigma/u_max*dx\n",
    "rho_hist = lax_fniedrichs(rho0, nt, dt, dx, u_max, rho_max)\n",
    "\n",
    "interactive_plot(x, rho_hist)"
   ]
  },
  {
   "cell_type": "code",
   "execution_count": 12,
   "metadata": {},
   "outputs": [
    {
     "data": {
      "application/vnd.jupyter.widget-view+json": {
       "model_id": "9fbefee0736c455289b7fbe94af80d0d",
       "version_major": 2,
       "version_minor": 0
      },
      "text/plain": [
       "interactive(children=(IntSlider(value=0, description='time step', max=80), Output()), _dom_classes=('widget-in…"
      ]
     },
     "metadata": {},
     "output_type": "display_data"
    }
   ],
   "source": [
    "sigma = 0.5\n",
    "dt = sigma * dx/ u_max\n",
    "nt = 80\n",
    "\n",
    "rho_hist = lax_fniedrichs(rho0, nt, dt, dx, u_max, rho_max)\n",
    "\n",
    "interactive_plot(x, rho_hist)"
   ]
  },
  {
   "cell_type": "code",
   "execution_count": 17,
   "metadata": {},
   "outputs": [],
   "source": [
    "def traffic_jacobian(rho, u_max, rho_max):\n",
    "    J = u_max * (1 - 2*rho / rho_max)\n",
    "    return J\n",
    "\n",
    "def lax_wendroff(rho0, nt, dt, dx, u_max, rho_max):\n",
    "    rho_hist = [rho0.copy()]\n",
    "    rho = rho0.copy()\n",
    "    for n in range(nt):\n",
    "        F = traffic_flux(rho, u_max, rho_max)\n",
    "        J = traffic_jacobian(rho, u_max, rho_max)\n",
    "        rho[1:-1] = (rho[1:-1] - dt /(2*dx) * (F[2:]-F[:-2]) + dt**2 /\n",
    "                     (4 * dx**2) * ((J[1:-1]+J[2:])*(F[2:]-F[1:-1]) - (J[1:-1]+J[:-2])*(F[1:-1]-F[:-2])))\n",
    "        rho_hist.append(rho.copy())\n",
    "    return rho_hist"
   ]
  },
  {
   "cell_type": "code",
   "execution_count": 18,
   "metadata": {},
   "outputs": [
    {
     "data": {
      "application/vnd.jupyter.widget-view+json": {
       "model_id": "db1ac0290d104d94a58859a77798a932",
       "version_major": 2,
       "version_minor": 0
      },
      "text/plain": [
       "interactive(children=(IntSlider(value=0, description='time step', max=40), Output()), _dom_classes=('widget-in…"
      ]
     },
     "metadata": {},
     "output_type": "display_data"
    }
   ],
   "source": [
    "sigma = 1.0\n",
    "dt = sigma * dx/ u_max\n",
    "nt = 40\n",
    "rho_hist = lax_wendroff(rho0, nt, dt, dx, u_max, rho_max)\n",
    "interactive_plot(x, rho_hist)"
   ]
  },
  {
   "cell_type": "code",
   "execution_count": null,
   "metadata": {},
   "outputs": [],
   "source": []
  }
 ],
 "metadata": {
  "kernelspec": {
   "display_name": "Python 3",
   "language": "python",
   "name": "python3"
  },
  "language_info": {
   "codemirror_mode": {
    "name": "ipython",
    "version": 3
   },
   "file_extension": ".py",
   "mimetype": "text/x-python",
   "name": "python",
   "nbconvert_exporter": "python",
   "pygments_lexer": "ipython3",
   "version": "3.7.3"
  }
 },
 "nbformat": 4,
 "nbformat_minor": 2
}
