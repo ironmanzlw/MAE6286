{
 "cells": [
  {
   "cell_type": "code",
   "execution_count": 3,
   "metadata": {},
   "outputs": [],
   "source": [
    "from matplotlib import pyplot as pl\n",
    "import numpy as np\n",
    "\n",
    "%matplotlib inline"
   ]
  },
  {
   "cell_type": "code",
   "execution_count": 4,
   "metadata": {},
   "outputs": [],
   "source": [
    "pl.rc('font', family='serif', size=16)"
   ]
  },
  {
   "cell_type": "code",
   "execution_count": 5,
   "metadata": {},
   "outputs": [],
   "source": [
    "# set parameter\n",
    "L = 1.0\n",
    "nx = 51\n",
    "dx = L/ (nx - 1)\n",
    "x = np.linspace(0.0, L, num = nx)\n",
    "\n",
    "alpha = 1.22e-3\n",
    "q = 0.0\n",
    "\n",
    "# set initial condition\n",
    "T0 = np.zeros(nx)\n",
    "T0[0] = 100.0"
   ]
  },
  {
   "cell_type": "code",
   "execution_count": 6,
   "metadata": {},
   "outputs": [],
   "source": [
    "def btcs(u0, nt, dt, dx, alpha, q = 0.0):\n",
    "    u = u0.copy()\n",
    "    sigma = alpha * dt / dx**2\n",
    "    A = lhs_operator(u0.size-2 ,sigma)\n",
    "    for n in range(nt):\n",
    "        b = rhs_vector(u, sigma, q * dx)\n",
    "        u[1:-1] = np.linalg.solve(A, b)\n",
    "        # update boundary value\n",
    "        u[0] = u0[0]\n",
    "        u[-1] = u[-2] + q*dx\n",
    "    \n",
    "    return u"
   ]
  },
  {
   "cell_type": "code",
   "execution_count": 12,
   "metadata": {},
   "outputs": [],
   "source": [
    "def lhs_operator(N, sigma):\n",
    "    #diagonal coefficients\n",
    "    D = np.diag((2 + 1 / sigma) * np.ones(N))\n",
    "    D[-1,-1] = 1 + 1 / sigma\n",
    "    #upper diagonal\n",
    "    U = np.diag(-1.0 * np.ones(N-1), k=1)\n",
    "    #lower diagonal\n",
    "    L = np.diag(-1.0 * np.ones(N-1), k=-1)\n",
    "    #assumble\n",
    "    A = D + U + L\n",
    "    print(A)\n",
    "    return A"
   ]
  },
  {
   "cell_type": "code",
   "execution_count": 13,
   "metadata": {},
   "outputs": [],
   "source": [
    "def rhs_vector(T, sigma, qdx):\n",
    "    b = T[1:-1] / sigma\n",
    "    #dirichlet\n",
    "    b[0] += T[0]\n",
    "    #neumann \n",
    "    b[-1] += qdx\n",
    "    return b"
   ]
  },
  {
   "cell_type": "code",
   "execution_count": 14,
   "metadata": {},
   "outputs": [
    {
     "name": "stdout",
     "output_type": "stream",
     "text": [
      "[[ 2.2 -1.   0.  ...  0.   0.   0. ]\n",
      " [-1.   2.2 -1.  ...  0.   0.   0. ]\n",
      " [ 0.  -1.   2.2 ...  0.   0.   0. ]\n",
      " ...\n",
      " [ 0.   0.   0.  ...  2.2 -1.   0. ]\n",
      " [ 0.   0.   0.  ... -1.   2.2 -1. ]\n",
      " [ 0.   0.   0.  ...  0.  -1.   1.2]]\n"
     ]
    },
    {
     "data": {
      "text/plain": [
       "[<matplotlib.lines.Line2D at 0x7f99eaf9da20>]"
      ]
     },
     "execution_count": 14,
     "metadata": {},
     "output_type": "execute_result"
    },
    {
     "data": {
      "image/png": "[encoded data removed]",
      "text/plain": [
       "<Figure size 432x288 with 1 Axes>"
      ]
     },
     "metadata": {
      "needs_background": "light"
     },
     "output_type": "display_data"
    }
   ],
   "source": [
    "nt =1000\n",
    "sigma = 5.0\n",
    "dt = sigma * dx**2 /alpha\n",
    "\n",
    "T = btcs(T0, nt, dt, dx, alpha, q = 0.0)\n",
    "pl.plot(x,T)"
   ]
  },
  {
   "cell_type": "code",
   "execution_count": null,
   "metadata": {},
   "outputs": [],
   "source": []
  },
  {
   "cell_type": "code",
   "execution_count": null,
   "metadata": {},
   "outputs": [],
   "source": []
  }
 ],
 "metadata": {
  "kernelspec": {
   "display_name": "Python 3",
   "language": "python",
   "name": "python3"
  },
  "language_info": {
   "codemirror_mode": {
    "name": "ipython",
    "version": 3
   },
   "file_extension": ".py",
   "mimetype": "text/x-python",
   "name": "python",
   "nbconvert_exporter": "python",
   "pygments_lexer": "ipython3",
   "version": "3.7.3"
  }
 },
 "nbformat": 4,
 "nbformat_minor": 2
}
