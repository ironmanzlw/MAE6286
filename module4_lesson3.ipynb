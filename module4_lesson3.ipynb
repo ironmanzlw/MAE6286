{
 "cells": [
  {
   "cell_type": "code",
   "execution_count": 24,
   "metadata": {},
   "outputs": [],
   "source": [
    "import numpy as np\n",
    "from matplotlib import pyplot as pl\n",
    "\n",
    "%matplotlib inline"
   ]
  },
  {
   "cell_type": "code",
   "execution_count": 29,
   "metadata": {},
   "outputs": [],
   "source": [
    "def ftcs (u0, alpha, dt, dx, dy, nt, qx = 0.0, qy = 0.0):\n",
    "    u = u0.copy()\n",
    "    sigmax = alpha * dt / dx**2\n",
    "    sigmay = alpha * dt / dy**2\n",
    "    nx, ny = u.shape\n",
    "    I, J = nx // 2, ny // 2\n",
    "    for n in range(nt):\n",
    "        u[1:-1, 1:-1] = (u[1:-1, 1:-1] \n",
    "                         + sigmax * (u[1:-1, :-2] - 2 * u[1:-1, 1:-1] + u[1:-1, 2:])\n",
    "                         + sigmay * (u[:-2, 1:-1] - 2 * u[1:-1, 1:-1] + u[2:, 1:-1]))\n",
    "\n",
    "        u[:,-1] = u[:,-2] + qx*dx\n",
    "        u[-1,:] = u[-2,:] + qy*dy\n",
    "        if u[J, I] >= 70.0:\n",
    "            break\n",
    "    print(n+1, u[J, I]) \n",
    "    return u"
   ]
  },
  {
   "cell_type": "code",
   "execution_count": 30,
   "metadata": {},
   "outputs": [],
   "source": [
    "L = 0.01\n",
    "nx = 21\n",
    "ny = 21\n",
    "dx = L/(nx-1)\n",
    "dy = L/(ny-1)\n",
    "\n",
    "x = np.linspace(0.0, L, num = nx)\n",
    "y = np.linspace(0.0, L, num = ny)\n",
    "\n",
    "alpha = 1e-4\n",
    "\n",
    "T0 = np.full((nx,ny), 20.0)\n",
    "T0[0,:] = 100.0\n",
    "T0[:,0] = 100.0\n"
   ]
  },
  {
   "cell_type": "code",
   "execution_count": 31,
   "metadata": {},
   "outputs": [
    {
     "name": "stdout",
     "output_type": "stream",
     "text": [
      "256 70.02138294076661\n"
     ]
    }
   ],
   "source": [
    "nt = 500\n",
    "sigmax = 1/4\n",
    "sigmay = 1/4\n",
    "\n",
    "dt = sigmax * dx **2 / alpha\n",
    "\n",
    "T = ftcs(T0, alpha, dt, dx, dy, nt)\n"
   ]
  },
  {
   "cell_type": "code",
   "execution_count": 32,
   "metadata": {},
   "outputs": [
    {
     "data": {
      "image/png": "[encoded data removed]",
      "text/plain": [
       "<Figure size 576x360 with 2 Axes>"
      ]
     },
     "metadata": {
      "needs_background": "light"
     },
     "output_type": "display_data"
    }
   ],
   "source": [
    "pl.figure(figsize=(8.0, 5.0))\n",
    "pl.xlabel('x [cm]')\n",
    "pl.ylabel('y [cm]')\n",
    "contf = pl.contourf(x * 100, y * 100, T, cmap='plasma' );\n",
    "cbar = pl.colorbar(contf)\n",
    "cbar.set_label('Temp[C]')"
   ]
  },
  {
   "cell_type": "code",
   "execution_count": null,
   "metadata": {},
   "outputs": [],
   "source": []
  },
  {
   "cell_type": "code",
   "execution_count": null,
   "metadata": {},
   "outputs": [],
   "source": []
  },
  {
   "cell_type": "code",
   "execution_count": null,
   "metadata": {},
   "outputs": [],
   "source": []
  }
 ],
 "metadata": {
  "kernelspec": {
   "display_name": "Python 3",
   "language": "python",
   "name": "python3"
  },
  "language_info": {
   "codemirror_mode": {
    "name": "ipython",
    "version": 3
   },
   "file_extension": ".py",
   "mimetype": "text/x-python",
   "name": "python",
   "nbconvert_exporter": "python",
   "pygments_lexer": "ipython3",
   "version": "3.7.3"
  }
 },
 "nbformat": 4,
 "nbformat_minor": 2
}
