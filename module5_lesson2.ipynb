{
 "cells": [
  {
   "cell_type": "code",
   "execution_count": 1,
   "metadata": {},
   "outputs": [],
   "source": [
    "import numpy as np\n",
    "from matplotlib import pyplot as pl\n",
    "\n",
    "%matplotlib inline"
   ]
  },
  {
   "cell_type": "code",
   "execution_count": 6,
   "metadata": {},
   "outputs": [],
   "source": [
    "def jacobi(u, b, iters):\n",
    "    ny, nx = u.shape\n",
    "    for it in range(iters):\n",
    "        uk = u.copy()\n",
    "        for j in range(1, ny-1):\n",
    "            for i in range(1, nx-1):\n",
    "                u[j, i] = 0.25 * (uk[j - 1, i] +\n",
    "                                  uk[j, i - 1] +\n",
    "                                  uk[j, i + 1] +\n",
    "                                  uk[j + 1, i] -\n",
    "                                  b[j, i])\n",
    "    return u\n",
    "        "
   ]
  },
  {
   "cell_type": "code",
   "execution_count": 8,
   "metadata": {},
   "outputs": [
    {
     "name": "stdout",
     "output_type": "stream",
     "text": [
      "[[ 0.4921875  0.2421875  0.2421875]\n",
      " [ 0.2421875 -0.0078125 -0.0078125]\n",
      " [ 0.4921875  0.2421875  0.2421875]]\n"
     ]
    }
   ],
   "source": [
    "nx = ny = 5\n",
    "dx = 0.5\n",
    "u = np.zeros((ny, nx))\n",
    "b = np.ones((ny, nx))* 0.5 * 0.25 * 0.25\n",
    "u[:, 0] = 1.0\n",
    "u[0, :] = 1.0\n",
    "u[-1, :] = 1.0\n",
    "\n",
    "u = jacobi(u, b, 1)\n",
    "print(u[1:-1, 1: -1])"
   ]
  },
  {
   "cell_type": "code",
   "execution_count": 18,
   "metadata": {},
   "outputs": [],
   "source": [
    "u = jacobi(u, b, 100)"
   ]
  },
  {
   "cell_type": "code",
   "execution_count": 19,
   "metadata": {},
   "outputs": [
    {
     "data": {
      "text/plain": [
       "<matplotlib.colorbar.Colorbar at 0x7f0f5cd02e48>"
      ]
     },
     "execution_count": 19,
     "metadata": {},
     "output_type": "execute_result"
    },
    {
     "data": {
      "image/png": "[encoded data removed]",
      "text/plain": [
       "<Figure size 432x288 with 2 Axes>"
      ]
     },
     "metadata": {
      "needs_background": "light"
     },
     "output_type": "display_data"
    }
   ],
   "source": [
    "X, Y = np.meshgrid(np.linspace(0.0, 1.0, nx), np.linspace(0.0, 1.0, ny))\n",
    "pl.contourf(X, Y, u)\n",
    "pl.colorbar()"
   ]
  },
  {
   "cell_type": "code",
   "execution_count": null,
   "metadata": {},
   "outputs": [],
   "source": []
  }
 ],
 "metadata": {
  "kernelspec": {
   "display_name": "Python 3",
   "language": "python",
   "name": "python3"
  },
  "language_info": {
   "codemirror_mode": {
    "name": "ipython",
    "version": 3
   },
   "file_extension": ".py",
   "mimetype": "text/x-python",
   "name": "python",
   "nbconvert_exporter": "python",
   "pygments_lexer": "ipython3",
   "version": "3.7.3"
  }
 },
 "nbformat": 4,
 "nbformat_minor": 2
}
