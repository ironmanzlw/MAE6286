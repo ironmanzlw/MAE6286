{
 "cells": [
  {
   "cell_type": "code",
   "execution_count": 1,
   "metadata": {},
   "outputs": [],
   "source": [
    "import numpy as np\n",
    "from matplotlib import pyplot as pl\n",
    "\n",
    "%matplotlib inline"
   ]
  },
  {
   "cell_type": "code",
   "execution_count": 29,
   "metadata": {},
   "outputs": [],
   "source": [
    "def sor(u, b, w, iters):\n",
    "    ny, nx = u.shape\n",
    "    for it in range(iters):\n",
    "        for j in range(1, ny-1):\n",
    "            for i in range(1, nx-1):\n",
    "                u[j, i] = ((1 - w) * u[j, i] +\n",
    "                      w * 0.25 * (u[j - 1, i] +\n",
    "                                  u[j, i - 1] +\n",
    "                                  u[j, i + 1] +\n",
    "                                  u[j + 1, i] -\n",
    "                                  b[j, i]))\n",
    "                u[:, -1] = u[:, -2]\n",
    "        u[-1, i] = u[-1, :] = np.sin(3/2 * np.pi * i /Lx) \n",
    "        \n",
    "    return u"
   ]
  },
  {
   "cell_type": "code",
   "execution_count": 30,
   "metadata": {},
   "outputs": [
    {
     "name": "stdout",
     "output_type": "stream",
     "text": [
      "[[-0.00703125 -0.00861328 -0.00896924]\n",
      " [-0.00861328 -0.01090723 -0.01150345]\n",
      " [-0.00896924 -0.01150345 -0.0122078 ]]\n"
     ]
    }
   ],
   "source": [
    "nx = ny = 5\n",
    "dx = 0.5\n",
    "u = np.zeros((ny, nx))\n",
    "b = np.ones((ny, nx))* 0.5 * 0.25 * 0.25\n",
    "Lx = (nx + 1) * dx\n",
    "\n",
    "u[:, 0] = 0.0 #left\n",
    "u[0, :] = 0.0 #bottom\n",
    "\n",
    "\n",
    "\n",
    "u = sor(u, b, 0.9, 1)\n",
    "print(u[1:-1, 1: -1])"
   ]
  },
  {
   "cell_type": "code",
   "execution_count": 31,
   "metadata": {},
   "outputs": [],
   "source": [
    "u = sor(u, b, 0.9, 100)"
   ]
  },
  {
   "cell_type": "code",
   "execution_count": 33,
   "metadata": {},
   "outputs": [
    {
     "data": {
      "text/plain": [
       "<matplotlib.colorbar.Colorbar at 0x7fa254091320>"
      ]
     },
     "execution_count": 33,
     "metadata": {},
     "output_type": "execute_result"
    },
    {
     "data": {
      "image/png": "[encoded data removed]",
      "text/plain": [
       "<Figure size 432x288 with 2 Axes>"
      ]
     },
     "metadata": {
      "needs_background": "light"
     },
     "output_type": "display_data"
    }
   ],
   "source": [
    "X, Y = np.meshgrid(np.linspace(0.0, 1.0, nx), np.linspace(0.0, 1.0, ny))\n",
    "pl.contourf(X, Y, u)\n",
    "pl.colorbar()"
   ]
  },
  {
   "cell_type": "code",
   "execution_count": null,
   "metadata": {},
   "outputs": [],
   "source": []
  },
  {
   "cell_type": "code",
   "execution_count": null,
   "metadata": {},
   "outputs": [],
   "source": []
  }
 ],
 "metadata": {
  "kernelspec": {
   "display_name": "Python 3",
   "language": "python",
   "name": "python3"
  },
  "language_info": {
   "codemirror_mode": {
    "name": "ipython",
    "version": 3
   },
   "file_extension": ".py",
   "mimetype": "text/x-python",
   "name": "python",
   "nbconvert_exporter": "python",
   "pygments_lexer": "ipython3",
   "version": "3.7.3"
  }
 },
 "nbformat": 4,
 "nbformat_minor": 2
}
