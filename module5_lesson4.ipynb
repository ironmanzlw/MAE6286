{
 "cells": [
  {
   "cell_type": "code",
   "execution_count": 1,
   "metadata": {},
   "outputs": [],
   "source": [
    "import numpy as np\n",
    "from helper import l2_norm, poisson_2d_jacobi, poisson_solution"
   ]
  },
  {
   "cell_type": "code",
   "execution_count": 2,
   "metadata": {},
   "outputs": [],
   "source": [
    "nx = 101\n",
    "ny = 101\n",
    "xmin = 0\n",
    "xmax = 1.0\n",
    "ymin = -0.5\n",
    "ymax = 0.5\n",
    "\n",
    "Lx = xmax-xmin\n",
    "Ly = ymax-ymin\n",
    "dx = Lx / (nx - 1)\n",
    "dy = Ly / (ny - 1)\n",
    "\n",
    "x = np.linspace(xmin, xmax, num = nx)\n",
    "y = np.linspace(ymin, ymax, num = ny)\n",
    "X, Y = np.meshgrid(x, y)\n",
    "\n",
    "b = (-2 * (np.pi / 2)**2 \n",
    "     * np.sin(np.pi * X / Lx) \n",
    "     * np.cos(np.pi * Y / Ly))\n",
    "\n",
    "\n",
    "p0 = np.zeros((ny, nx))\n",
    "pe = poisson_solution(x, y, Lx, Ly)"
   ]
  },
  {
   "cell_type": "code",
   "execution_count": 3,
   "metadata": {},
   "outputs": [],
   "source": [
    "def poisson_2d_steepest_descent(p0, b, dx, dy, \n",
    "                                maxiter = 20000, rtol = 1e-6):\n",
    "    def A(p):\n",
    "        # compute the laplacian of p\n",
    "        return((p[1:-1, :-2] - 2 * p[1:-1, 1:-1] + p[1:-1, 2:]) / dx**2 +\n",
    "              (p[:-2, 1:-1] - 2 * p[1:-1, 1:-1] + p[2:, 1:-1]) / dy**2)\n",
    "    \n",
    "    p = p0.copy()\n",
    "    diff = rtol + 1\n",
    "    ite = 0\n",
    "    rk = np.zeros_like(p)\n",
    "    Ar = np.zeros_like(p)\n",
    "    while diff > rtol and ite < maxiter:\n",
    "        pk = p.copy()\n",
    "        # compute residual rk.\n",
    "        rk[1:-1, 1:-1] = b[1:-1, 1:-1] - A(pk)\n",
    "        # compute step size alpha\n",
    "        Ar[1:-1, 1:-1] = A(rk) \n",
    "        alpha = np.sum(rk * rk) / np.sum(rk * Ar)\n",
    "        # update solution\n",
    "        p = pk + alpha * rk\n",
    "        # compute relative difference\n",
    "        diff = l2_norm(p, pk)\n",
    "        # increment iteration index\n",
    "        ite = ite + 1\n",
    "    return p, ite, diff"
   ]
  },
  {
   "cell_type": "code",
   "execution_count": 4,
   "metadata": {},
   "outputs": [
    {
     "name": "stdout",
     "output_type": "stream",
     "text": [
      "2 1.2374874917997386e-16\n"
     ]
    }
   ],
   "source": [
    "p, ites, diff = poisson_2d_steepest_descent(p0, b, dx, dy, rtol = 1e-10)\n",
    "print(ites, diff)"
   ]
  },
  {
   "cell_type": "code",
   "execution_count": 12,
   "metadata": {},
   "outputs": [],
   "source": [
    "b = (np.sin(np.pi * X / Lx) \n",
    "     * np.cos(np.pi * Y / Ly)\n",
    "    +  np.sin(6 * np.pi * X / Lx) \n",
    "     * np.cos(6 * np.pi * Y / Ly))"
   ]
  },
  {
   "cell_type": "code",
   "execution_count": 13,
   "metadata": {},
   "outputs": [],
   "source": [
    "def poisson_2d_cojugate_gradients(p0, b, dx, dy, \n",
    "                                maxiter = 20000, rtol = 1e-6):\n",
    "    def A(p):\n",
    "        # compute the laplacian of p\n",
    "        return((p[1:-1, :-2] - 2 * p[1:-1, 1:-1] + p[1:-1, 2:]) / dx**2 +\n",
    "              (p[:-2, 1:-1] - 2 * p[1:-1, 1:-1] + p[2:, 1:-1]) / dy**2)\n",
    "    \n",
    "    p = p0.copy()\n",
    "    diff = rtol + 1\n",
    "    ite = 0\n",
    "    r = np.zeros_like(p)\n",
    "    Ad = np.zeros_like(p)\n",
    "    r[1:-1, 1:-1] = b[1:-1, 1:-1] - A(p)\n",
    "    d = r.copy()\n",
    "    while diff > rtol and ite < maxiter:\n",
    "        pk = p.copy()\n",
    "        rk = r.copy()\n",
    "        #\n",
    "        Ad[1:-1, 1:-1] = A(d) \n",
    "        alpha = np.sum(r * r) / np.sum(d * Ad)\n",
    "        # \n",
    "        p = pk + alpha * d        \n",
    "        # \n",
    "        r = rk - alpha * Ad\n",
    "        #\n",
    "        beta = np.sum(r * r) / np.sum(rk * rk)\n",
    "        d = r + beta * d\n",
    "        # \n",
    "        diff = l2_norm(p, pk)\n",
    "        # \n",
    "        ite = ite + 1\n",
    "    return p, ite, diff"
   ]
  },
  {
   "cell_type": "code",
   "execution_count": 14,
   "metadata": {},
   "outputs": [
    {
     "name": "stdout",
     "output_type": "stream",
     "text": [
      "72 3.438765648895609e-11\n"
     ]
    }
   ],
   "source": [
    "p, ites, diff = poisson_2d_cojugate_gradients(p0, b, dx, dy, rtol = 1e-10)\n",
    "print(ites, diff)"
   ]
  },
  {
   "cell_type": "code",
   "execution_count": null,
   "metadata": {},
   "outputs": [],
   "source": []
  }
 ],
 "metadata": {
  "kernelspec": {
   "display_name": "Python 3",
   "language": "python",
   "name": "python3"
  },
  "language_info": {
   "codemirror_mode": {
    "name": "ipython",
    "version": 3
   },
   "file_extension": ".py",
   "mimetype": "text/x-python",
   "name": "python",
   "nbconvert_exporter": "python",
   "pygments_lexer": "ipython3",
   "version": "3.7.3"
  }
 },
 "nbformat": 4,
 "nbformat_minor": 2
}
