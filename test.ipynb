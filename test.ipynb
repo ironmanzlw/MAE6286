{
 "cells": [
  {
   "cell_type": "code",
   "execution_count": 48,
   "metadata": {},
   "outputs": [
    {
     "data": {
      "text/plain": [
       "(2.0, 2.220446049250313e-14)"
      ]
     },
     "execution_count": 48,
     "metadata": {},
     "output_type": "execute_result"
    }
   ],
   "source": [
    "import numpy as np\n",
    "import matplotlib.pyplot as pl\n",
    "T = 100.0\n",
    "dt = 0.05\n",
    "N = int( T / dt) + 1\n",
    "t = np.linspace(0.0, T, num = N)\n",
    "\n",
    "from scipy import integrate\n",
    "mpl = lambda t: 20 if t<=4 else 0\n",
    "fmpl = integrate.quad(mpl, 0, 0.1)\n",
    "fmpl\n",
    "\n",
    "\n",
    "\n"
   ]
  },
  {
   "cell_type": "code",
   "execution_count": 3,
   "metadata": {},
   "outputs": [
    {
     "data": {
      "text/plain": [
       "(4.0, 4.440892098500626e-14)"
      ]
     },
     "execution_count": 3,
     "metadata": {},
     "output_type": "execute_result"
    }
   ],
   "source": [
    "from scipy import integrate\n",
    "x2 = lambda t: 1\n",
    "integrate.quad(x2, 0, 4)"
   ]
  },
  {
   "cell_type": "code",
   "execution_count": 14,
   "metadata": {
    "scrolled": true
   },
   "outputs": [
    {
     "data": {
      "image/png": "[encoded data removed]",
      "text/plain": [
       "<Figure size 432x288 with 1 Axes>"
      ]
     },
     "metadata": {},
     "output_type": "display_data"
    },
    {
     "data": {
      "text/plain": [
       "(12.0, 1.3322676295501878e-13)"
      ]
     },
     "execution_count": 14,
     "metadata": {},
     "output_type": "execute_result"
    }
   ],
   "source": [
    "T = 100.0\n",
    "dt = 0.05\n",
    "N = int( T / dt) + 1\n",
    "t = np.linspace(0.0, T, num = N)\n",
    "\n",
    "def step_function(t):\n",
    "    return np.array(t < 4, dtype=np.int)\n",
    "\n",
    "mpl = step_function(t)*20\n",
    "\n",
    "pl.plot(t, mpl)\n",
    "pl.ylim(-1.0, 25)\n",
    "pl.show()\n",
    "\n",
    "\n",
    "from scipy import integrate\n",
    "fmpl = lambda t: 3\n",
    "integrate.quad(fmpl,0,4)"
   ]
  },
  {
   "cell_type": "code",
   "execution_count": 16,
   "metadata": {},
   "outputs": [
    {
     "data": {
      "image/png": "[encoded data removed]",
      "text/plain": [
       "<Figure size 432x288 with 1 Axes>"
      ]
     },
     "metadata": {},
     "output_type": "display_data"
    },
    {
     "data": {
      "text/plain": [
       "array([150., 150., 150., 150., 150., 150., 150., 150., 150., 150., 150.,\n",
       "       150., 150., 150., 150., 150., 150., 150., 150., 150., 150., 150.,\n",
       "       150., 150., 150., 150., 150., 150., 150., 150., 150., 150., 150.,\n",
       "       150., 150., 150., 150., 150., 150., 150., 150., 150., 150., 150.,\n",
       "       150., 150., 150., 150., 150., 150., 150., 150., 150., 150., 150.,\n",
       "       150., 150., 150., 150., 150., 150., 150., 150., 150., 150., 150.,\n",
       "       150., 150., 150., 150., 150., 150., 150., 150., 150., 150., 150.,\n",
       "       150., 150., 150., 150.,   0.,   0.,   0.,   0.,   0.,   0.,   0.,\n",
       "         0.,   0.,   0.,   0.,   0.,   0.,   0.,   0.,   0.,   0.,   0.,\n",
       "         0.])"
      ]
     },
     "execution_count": 16,
     "metadata": {},
     "output_type": "execute_result"
    }
   ],
   "source": [
    "import numpy as np\n",
    "import matplotlib.pyplot as pl\n",
    "\n",
    "T = 100.0\n",
    "dt = 0.05\n",
    "N = int( T / dt) + 1\n",
    "e = int(4 /dt)+1\n",
    "t = np.linspace(0.0, T, num = N)\n",
    "mp0 = 150 #kg\n",
    "mp = np.zeros(N)\n",
    "mp[0:e] = mp0\n",
    "\n",
    "def step_function(t):\n",
    "    return np.array(t < 4, dtype=np.int)\n",
    "\n",
    "mpl = step_function(t)*20\n",
    "\n",
    "pl.plot(t, mpl)\n",
    "pl.ylim(-1.0, 25)\n",
    "pl.show()\n",
    "\n",
    "mp[:100]\n",
    "\n",
    "\n",
    "\n"
   ]
  },
  {
   "cell_type": "code",
   "execution_count": null,
   "metadata": {},
   "outputs": [],
   "source": []
  }
 ],
 "metadata": {
  "kernelspec": {
   "display_name": "Python 3",
   "language": "python",
   "name": "python3"
  },
  "language_info": {
   "codemirror_mode": {
    "name": "ipython",
    "version": 3
   },
   "file_extension": ".py",
   "mimetype": "text/x-python",
   "name": "python",
   "nbconvert_exporter": "python",
   "pygments_lexer": "ipython3",
   "version": "3.6.2"
  }
 },
 "nbformat": 4,
 "nbformat_minor": 2
}
